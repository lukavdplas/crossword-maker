{
 "cells": [
  {
   "cell_type": "markdown",
   "metadata": {},
   "source": [
    "# Empty crosswords 2\n",
    "\n",
    "Attempt 2 at making an empty crossword generator"
   ]
  },
  {
   "cell_type": "markdown",
   "metadata": {},
   "source": [
    "## Import"
   ]
  },
  {
   "cell_type": "code",
   "execution_count": 152,
   "metadata": {},
   "outputs": [],
   "source": [
    "import numpy as np\n",
    "import random\n",
    "import PIL\n",
    "from PIL import Image, ImageDraw\n",
    "import math\n",
    "import matplotlib.pyplot as plt"
   ]
  },
  {
   "cell_type": "markdown",
   "metadata": {},
   "source": [
    "## Initiate crossword"
   ]
  },
  {
   "cell_type": "code",
   "execution_count": 207,
   "metadata": {},
   "outputs": [],
   "source": [
    "size = 13\n",
    "\n",
    "def makeGrid(size):\n",
    "    grid = np.rint(np.random.rand(size, size)).astype(bool)\n",
    "    for x in range(size):\n",
    "        for y in range(size):\n",
    "            grid[y,x] = grid[-(y + 1),-(x + 1)]\n",
    "    \n",
    "    return grid\n",
    "\n",
    "grid = makeGrid(13)"
   ]
  },
  {
   "cell_type": "markdown",
   "metadata": {},
   "source": [
    "## Grid reading functions\n",
    "\n",
    "Various functions that help in in processing a crossword grid"
   ]
  },
  {
   "cell_type": "code",
   "execution_count": 26,
   "metadata": {},
   "outputs": [],
   "source": [
    "def isStart(x, y, grid, direction):\n",
    "    'indicates whether the given coordinates mark the start of a sequence'\n",
    "    if grid[y,x]:\n",
    "        size = grid.shape[0]\n",
    "        if direction == 'hor':\n",
    "            if x < size - 1:\n",
    "                if x == 0 or not grid[y,x-1]:  #if there is no white square to the left...\n",
    "                    if grid[y,x+1]:            #... and there is a white square to the right\n",
    "                        return True\n",
    "        if direction == 'ver':\n",
    "            if y < size - 1:\n",
    "                if y == 0 or not grid[y-1,x]: #if there is no white square above...\n",
    "                    if grid[y+1,x]:           #... and there is a white square below\n",
    "                        return True\n",
    "    return False\n",
    "\n",
    "def startingCors(grid, direction):\n",
    "    size = grid.shape[0]\n",
    "    return [(y,x) for x in range(size) for y in range(size) if isStart(x,y,grid,direction)]"
   ]
  },
  {
   "cell_type": "code",
   "execution_count": 55,
   "metadata": {},
   "outputs": [],
   "source": [
    "def seqLength(x,y,grid,direction):\n",
    "    'gives the length of the sequence starting from the given coordinates'\n",
    "    \n",
    "    #get the rest of the row/column\n",
    "    if direction == 'hor':\n",
    "        rest = grid[y,x:]\n",
    "    else:\n",
    "        rest = grid[y:,x]\n",
    "        \n",
    "    for i, value in enumerate(rest):\n",
    "        if not value:\n",
    "            return i\n",
    "    \n",
    "    return(len(rest))\n",
    "    "
   ]
  },
  {
   "cell_type": "code",
   "execution_count": null,
   "metadata": {},
   "outputs": [],
   "source": [
    "\n"
   ]
  },
  {
   "cell_type": "markdown",
   "metadata": {},
   "source": [
    "## Constraints\n",
    "\n",
    "A number of functions that define constraints on empty crossword. Each function takes an empty crossword as input, and outputs the number of violations of the constraint."
   ]
  },
  {
   "cell_type": "code",
   "execution_count": 65,
   "metadata": {},
   "outputs": [],
   "source": [
    "def minLength(grid, min_length=3):\n",
    "    'returns number of sequences that are shorter than the minimum length'\n",
    "    lengths = [seqLength(x,y,grid, 'hor') for y,x in startingCors(grid, 'hor')] + [seqLength(x,y,grid, 'ver') for y,x in startingCors(grid, 'ver')]\n",
    "    \n",
    "    violations = len([l for l in lengths if l < min_length])\n",
    "    \n",
    "    return violations"
   ]
  },
  {
   "cell_type": "code",
   "execution_count": 96,
   "metadata": {},
   "outputs": [],
   "source": [
    "def neighbours(x,y,grid):\n",
    "    'give coordinates of neighbours in von neumann neighbouhood for which the square is True in the grid'\n",
    "    size = grid.shape[0]\n",
    "    neighbourhood = [(x + 1, y), (x - 1, y), (x, y + 1), (x, y - 1)]\n",
    "    neighbourhood = [(x_1, y_1) for x_1, y_1 in neighbourhood if x_1 >= 0 and x_1 < size and y_1 >= 0 and y_1 < size]\n",
    "    return [(x_1,y_1) for x_1, y_1 in neighbourhood if grid[y_1,x_1]]\n",
    "                \n",
    "\n",
    "def islands(grid):\n",
    "    'return the number of islands'\n",
    "    size = grid.shape[0]\n",
    "    islands = 0\n",
    "    new_grid = np.copy(grid)\n",
    "    for x in range(size):\n",
    "        for y in range(size):\n",
    "            if new_grid[y,x]:\n",
    "                #add one to count\n",
    "                islands += 1\n",
    "                \n",
    "                #set rest of island to False\n",
    "                connected = neighbours(x,y,new_grid)\n",
    "                while len(connected) > 0:\n",
    "                    x_1, y_1 = connected[0]\n",
    "                    if new_grid[y_1, x_1]:\n",
    "                        #set to false and replace with neighbours\n",
    "                        new_grid[y_1,x_1] = False                      \n",
    "                        connected = connected[1:] + neighbours(x_1, y_1, new_grid) \n",
    "                    else:\n",
    "                        #or just delete it\n",
    "                        connected = connected[1:]\n",
    "    \n",
    "    return islands - 1"
   ]
  },
  {
   "cell_type": "code",
   "execution_count": 137,
   "metadata": {},
   "outputs": [],
   "source": [
    "def blackWhiteRatio(grid):\n",
    "    size = grid.shape[0]\n",
    "    total_count = size ** 2\n",
    "    \n",
    "    max_white = int(0.8 * total_count)\n",
    "    white_count = np.sum(grid)\n",
    "    overflow = max(white_count - max_white, 0)\n",
    "    \n",
    "    if not overflow:\n",
    "        max_black = int(0.3 * total_count)\n",
    "        black_count = total_count - white_count\n",
    "        overflow = max(black_count - max_black, 0)\n",
    "    \n",
    "    return overflow"
   ]
  },
  {
   "cell_type": "code",
   "execution_count": 181,
   "metadata": {},
   "outputs": [],
   "source": [
    "def loss(grid):\n",
    "    #note: it may be interesting to add a weight to different constraints\n",
    "    return sum(fun(grid) for fun in [minLength, islands, blackWhiteRatio])"
   ]
  },
  {
   "cell_type": "code",
   "execution_count": null,
   "metadata": {},
   "outputs": [],
   "source": []
  },
  {
   "cell_type": "markdown",
   "metadata": {},
   "source": [
    "## Perform search with simulated annealing"
   ]
  },
  {
   "cell_type": "code",
   "execution_count": 201,
   "metadata": {},
   "outputs": [],
   "source": [
    "def step(grid):\n",
    "    new_grid = np.copy(grid)\n",
    "    size = grid.shape[0]\n",
    "    x = random.choice(range(size))\n",
    "    y = random.choice(range(size))\n",
    "    new_grid[y,x] = not new_grid[y,x]\n",
    "    new_grid[-(y+1), -(x+1)] = new_grid[y,x]\n",
    "    return new_grid\n",
    "\n",
    "def P(old_loss, new_loss, T):\n",
    "    if new_loss < old_loss:\n",
    "        return 1\n",
    "    else:\n",
    "        return math.exp(-1 * (new_loss - old_loss)/T)"
   ]
  },
  {
   "cell_type": "code",
   "execution_count": 212,
   "metadata": {},
   "outputs": [
    {
     "name": "stdout",
     "output_type": "stream",
     "text": [
      "0\n"
     ]
    }
   ],
   "source": [
    "grid = makeGrid(13)\n",
    "\n",
    "loss_log = []\n",
    "l = loss(grid)\n",
    "max_iterations = 2000\n",
    "\n",
    "for i in range(max_iterations):\n",
    "    loss_log.append(l)\n",
    "    T = max_iterations/(i + 1)\n",
    "    neighbour = step(grid)\n",
    "    l_neighbour = loss(neighbour)\n",
    "    \n",
    "    if P(l, l_neighbour, T) >= random.random():\n",
    "        grid = neighbour\n",
    "        l = l_neighbour\n",
    "    \n",
    "    if l == 0:\n",
    "        break\n",
    "\n",
    "print(l)"
   ]
  },
  {
   "cell_type": "code",
   "execution_count": 213,
   "metadata": {},
   "outputs": [
    {
     "data": {
      "text/plain": [
       "Text(0, 0.5, 'loss')"
      ]
     },
     "execution_count": 213,
     "metadata": {},
     "output_type": "execute_result"
    },
    {
     "data": {
      "image/png": "[encoded data removed]",
      "text/plain": [
       "<Figure size 432x288 with 1 Axes>"
      ]
     },
     "metadata": {
      "needs_background": "light"
     },
     "output_type": "display_data"
    }
   ],
   "source": [
    "plt.plot(loss_log)\n",
    "plt.xlabel('iterations')\n",
    "plt.ylabel('loss')"
   ]
  },
  {
   "cell_type": "markdown",
   "metadata": {},
   "source": [
    "## Show grid"
   ]
  },
  {
   "cell_type": "code",
   "execution_count": 214,
   "metadata": {},
   "outputs": [
    {
     "data": {
      "image/png": "[encoded data removed]",
      "text/plain": [
       "<PIL.Image.Image image mode=1 size=495x495 at 0x7F30FDCD06D0>"
      ]
     },
     "execution_count": 214,
     "metadata": {},
     "output_type": "execute_result"
    }
   ],
   "source": [
    "max_width = 500\n",
    "square_size = int((max_width - 1) / width)\n",
    "img_width = square_size * width + 1\n",
    "img_height = square_size * height + 1\n",
    "\n",
    "#create blank image\n",
    "img = PIL.Image.new('1', (img_width, img_height), color=1)\n",
    "\n",
    "#draw vertical grid lines\n",
    "for i in range(width):\n",
    "    x = i * square_size\n",
    "    for y in range(img_height):\n",
    "        img.putpixel((x,y), 0)\n",
    "\n",
    "#draw horizontal grid lines\n",
    "for i in range(height):\n",
    "    y = i * square_size\n",
    "    for x in range(img_width):\n",
    "        img.putpixel((x,y), 0)\n",
    "\n",
    "#final vertical and horizontal lines\n",
    "for y in range(img_height):\n",
    "    img.putpixel((-1,y), 0)\n",
    "for x in range(img_width):\n",
    "    img.putpixel((x,-1), 0)\n",
    "\n",
    "#fill in black squares\n",
    "for i in range(width):\n",
    "    for j in range(height):\n",
    "        value = int(grid[j][i])   #1 for white squares, 0 for black squares\n",
    "        if value == 0:\n",
    "            x_min, x_max = i * square_size, (i+1) * square_size\n",
    "            y_min, y_max = j * square_size, (j+1) * square_size\n",
    "\n",
    "            for x in range(x_min, x_max):\n",
    "                for y in range(y_min, y_max):\n",
    "                    img.putpixel((x,y), 0)\n",
    "\n",
    "img"
   ]
  },
  {
   "cell_type": "code",
   "execution_count": 216,
   "metadata": {},
   "outputs": [
    {
     "data": {
      "text/plain": [
       "(array([22.,  0., 12.,  0.,  0.,  8.,  0.,  8.,  0.,  2.]),\n",
       " array([3. , 3.4, 3.8, 4.2, 4.6, 5. , 5.4, 5.8, 6.2, 6.6, 7. ]),\n",
       " <a list of 10 Patch objects>)"
      ]
     },
     "execution_count": 216,
     "metadata": {},
     "output_type": "execute_result"
    },
    {
     "data": {
      "image/png": "[encoded data removed]",
      "text/plain": [
       "<Figure size 432x288 with 1 Axes>"
      ]
     },
     "metadata": {
      "needs_background": "light"
     },
     "output_type": "display_data"
    }
   ],
   "source": [
    "#division of sequence lengths:\n",
    "\n",
    "lengths = [seqLength(x,y,grid, 'hor') for y,x in startingCors(grid, 'hor')] + [seqLength(x,y,grid, 'ver') for y,x in startingCors(grid, 'ver')]\n",
    "\n",
    "plt.hist(lengths)"
   ]
  }
 ],
 "metadata": {
  "kernelspec": {
   "display_name": "Python 3",
   "language": "python",
   "name": "python3"
  },
  "language_info": {
   "codemirror_mode": {
    "name": "ipython",
    "version": 3
   },
   "file_extension": ".py",
   "mimetype": "text/x-python",
   "name": "python",
   "nbconvert_exporter": "python",
   "pygments_lexer": "ipython3",
   "version": "3.7.4"
  }
 },
 "nbformat": 4,
 "nbformat_minor": 2
}
