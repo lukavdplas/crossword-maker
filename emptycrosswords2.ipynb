{
 "cells": [
  {
   "cell_type": "markdown",
   "metadata": {},
   "source": [
    "# Empty crosswords 2\n",
    "\n",
    "Attempt 2 at making an empty crossword generator. This version defines a number of constraints that need to be satisfied, and performs simulated annealing to find a good crossword in a random walk through all boolean grids."
   ]
  },
  {
   "cell_type": "markdown",
   "metadata": {},
   "source": [
    "## Import"
   ]
  },
  {
   "cell_type": "code",
   "execution_count": 1,
   "metadata": {},
   "outputs": [],
   "source": [
    "import numpy as np\n",
    "import random\n",
    "import math\n",
    "\n",
    "#for viewing\n",
    "import PIL\n",
    "from PIL import Image, ImageDraw\n",
    "import matplotlib.pyplot as plt"
   ]
  },
  {
   "cell_type": "markdown",
   "metadata": {},
   "source": [
    "## Initiate crossword"
   ]
  },
  {
   "cell_type": "code",
   "execution_count": 2,
   "metadata": {},
   "outputs": [],
   "source": [
    "size = 13\n",
    "\n",
    "def makeGrid(size):\n",
    "    grid = np.rint(np.random.rand(size, size)).astype(bool)\n",
    "    for x in range(size):\n",
    "        for y in range(size):\n",
    "            grid[y,x] = grid[-(y + 1),-(x + 1)]\n",
    "    \n",
    "    return grid\n",
    "\n",
    "grid = makeGrid(13)"
   ]
  },
  {
   "cell_type": "markdown",
   "metadata": {},
   "source": [
    "## Grid reading functions\n",
    "\n",
    "Various functions that help in in processing a crossword grid"
   ]
  },
  {
   "cell_type": "code",
   "execution_count": 3,
   "metadata": {},
   "outputs": [],
   "source": [
    "def isStart(x, y, grid, direction):\n",
    "    'indicates whether the given coordinates mark the start of a sequence'\n",
    "    if grid[y,x]:\n",
    "        size = grid.shape[0]\n",
    "        if direction == 'hor':\n",
    "            if x < size - 1:\n",
    "                if x == 0 or not grid[y,x-1]:  #if there is no white square to the left...\n",
    "                    if grid[y,x+1]:            #... and there is a white square to the right\n",
    "                        return True\n",
    "        if direction == 'ver':\n",
    "            if y < size - 1:\n",
    "                if y == 0 or not grid[y-1,x]: #if there is no white square above...\n",
    "                    if grid[y+1,x]:           #... and there is a white square below\n",
    "                        return True\n",
    "    return False\n",
    "\n",
    "def startingCors(grid, direction):\n",
    "    size = grid.shape[0]\n",
    "    return [(y,x) for x in range(size) for y in range(size) if isStart(x,y,grid,direction)]"
   ]
  },
  {
   "cell_type": "code",
   "execution_count": 4,
   "metadata": {},
   "outputs": [],
   "source": [
    "def seqLength(x,y,grid,direction):\n",
    "    'gives the length of the sequence starting from the given coordinates'\n",
    "    \n",
    "    #get the rest of the row/column\n",
    "    if direction == 'hor':\n",
    "        rest = grid[y,x:]\n",
    "    else:\n",
    "        rest = grid[y:,x]\n",
    "        \n",
    "    for i, value in enumerate(rest):\n",
    "        if not value:\n",
    "            return i\n",
    "    \n",
    "    return(len(rest))\n",
    "    "
   ]
  },
  {
   "cell_type": "code",
   "execution_count": null,
   "metadata": {},
   "outputs": [],
   "source": [
    "\n"
   ]
  },
  {
   "cell_type": "markdown",
   "metadata": {},
   "source": [
    "## Constraints\n",
    "\n",
    "A number of functions that define constraints on empty crossword. Each function takes an empty crossword as input, and outputs the number of violations of the constraint."
   ]
  },
  {
   "cell_type": "code",
   "execution_count": 5,
   "metadata": {},
   "outputs": [],
   "source": [
    "def minLength(grid, min_length=3):\n",
    "    'returns number of sequences that are shorter than the minimum length'\n",
    "    lengths = [seqLength(x,y,grid, direction) for direction in ('hor', 'ver') for y,x in startingCors(grid, direction)]\n",
    "    \n",
    "    violations = len([l for l in lengths if l < min_length])\n",
    "    \n",
    "    return violations"
   ]
  },
  {
   "cell_type": "code",
   "execution_count": 6,
   "metadata": {},
   "outputs": [],
   "source": [
    "def neighbours(x,y,grid):\n",
    "    'give coordinates of neighbours in von neumann neighbouhood for which the square is True in the grid'\n",
    "    size = grid.shape[0]\n",
    "    neighbourhood = [(x + 1, y), (x - 1, y), (x, y + 1), (x, y - 1)]\n",
    "    neighbourhood = [(x_1, y_1) for x_1, y_1 in neighbourhood if x_1 >= 0 and x_1 < size and y_1 >= 0 and y_1 < size]\n",
    "    return [(x_1,y_1) for x_1, y_1 in neighbourhood if grid[y_1,x_1]]\n",
    "                \n",
    "\n",
    "def islands(grid):\n",
    "    'return the number of islands - 1. (There should be only 1.)'\n",
    "    size = grid.shape[0]\n",
    "    islands = 0\n",
    "    new_grid = np.copy(grid)\n",
    "    for x in range(size):\n",
    "        for y in range(size):\n",
    "            if new_grid[y,x]:\n",
    "                #add one to count\n",
    "                islands += 1\n",
    "                \n",
    "                #set rest of island to False\n",
    "                connected = neighbours(x,y,new_grid)\n",
    "                while len(connected) > 0:\n",
    "                    x_1, y_1 = connected[0]\n",
    "                    if new_grid[y_1, x_1]:\n",
    "                        #set to false and append its neighbours\n",
    "                        new_grid[y_1,x_1] = False                      \n",
    "                        connected = connected[1:] + neighbours(x_1, y_1, new_grid) \n",
    "                    else:\n",
    "                        #or just delete it\n",
    "                        connected = connected[1:]\n",
    "    \n",
    "    return islands - 1"
   ]
  },
  {
   "cell_type": "code",
   "execution_count": 7,
   "metadata": {},
   "outputs": [],
   "source": [
    "def blackWhiteBalance(grid):\n",
    "    'checks that at most 80% of squares are white and at most 30% are black. returns the overflow in either direction.'\n",
    "    size = grid.shape[0]\n",
    "    total_count = size ** 2\n",
    "    \n",
    "    max_white = int(0.8 * total_count)\n",
    "    white_count = np.sum(grid)\n",
    "    overflow = max(white_count - max_white, 0)\n",
    "    \n",
    "    if not overflow:\n",
    "        max_black = int(0.3 * total_count)\n",
    "        black_count = total_count - white_count\n",
    "        overflow = max(black_count - max_black, 0)\n",
    "    \n",
    "    return overflow"
   ]
  },
  {
   "cell_type": "code",
   "execution_count": 8,
   "metadata": {},
   "outputs": [],
   "source": [
    "def lengthBalance(grid):\n",
    "    'checks that there are not too many sequences of length three.'\n",
    "    lengths = [seqLength(x,y,grid, direction) for direction in ('hor', 'ver') for y,x in startingCors(grid, direction)]\n",
    "    threes = filter(lambda x: x == 3, lengths)\n",
    "    \n",
    "    max_threes = int(0.3 * len(lengths))\n",
    "    overflow = max(0, sum(threes)/3 - max_threes)\n",
    "    \n",
    "    return overflow"
   ]
  },
  {
   "cell_type": "code",
   "execution_count": 9,
   "metadata": {},
   "outputs": [],
   "source": [
    "def maxLength(grid):\n",
    "    \"a random walk favours short word lengths. this constraints checks that there are at least a few longer ones\"\n",
    "    min_length = 9\n",
    "    min_count = 3\n",
    "    \n",
    "    lengths = [seqLength(x,y,grid, direction) for direction in ('hor', 'ver') for y,x in startingCors(grid, direction)]\n",
    "    long_count = sum(1 for l in lengths if l >= min_length)\n",
    "    defecit = max(0, min_count - long_count)\n",
    "    \n",
    "    return defecit"
   ]
  },
  {
   "cell_type": "code",
   "execution_count": 10,
   "metadata": {},
   "outputs": [],
   "source": [
    "def whiteBlocks(grid):\n",
    "    'limits the number of 3x3 blocks that are only white squares. maximum is 2.'\n",
    "    size = grid.shape[0]\n",
    "    \n",
    "    is_block = lambda x, y: np.all(grid[y : y+3, x : x+3])\n",
    "    \n",
    "    blocks = sum(int(is_block(x,y)) for x in range(size - 3) for y in range(size - 3))\n",
    "    \n",
    "    return blocks - 2"
   ]
  },
  {
   "cell_type": "code",
   "execution_count": 11,
   "metadata": {},
   "outputs": [],
   "source": [
    "def loss(grid):\n",
    "    #note: it may be interesting to add a weight to different constraints\n",
    "    constraints =  [minLength, islands, blackWhiteBalance, lengthBalance, maxLength, whiteBlocks]\n",
    "    return sum(f(grid) for f in constraints)"
   ]
  },
  {
   "cell_type": "markdown",
   "metadata": {},
   "source": [
    "## Perform search with simulated annealing"
   ]
  },
  {
   "cell_type": "code",
   "execution_count": 12,
   "metadata": {},
   "outputs": [],
   "source": [
    "def step(grid):\n",
    "    new_grid = np.copy(grid)\n",
    "    size = grid.shape[0]\n",
    "    x = random.choice(range(size))\n",
    "    y = random.choice(range(size))\n",
    "    new_grid[y,x] = not new_grid[y,x]\n",
    "    new_grid[-(y+1), -(x+1)] = new_grid[y,x]\n",
    "    return new_grid\n",
    "\n",
    "def P(old_loss, new_loss, T):\n",
    "    if new_loss < old_loss:\n",
    "        return 1\n",
    "    else:\n",
    "        return math.exp(-1 * (new_loss - old_loss)/T)"
   ]
  },
  {
   "cell_type": "code",
   "execution_count": 22,
   "metadata": {},
   "outputs": [],
   "source": [
    "def colour(grid):\n",
    "    \"\"\"Fiddle with a grid until it meets all constraints or 2000 iterations have been reached.\"\"\"\n",
    "    \n",
    "    loss_log = [loss(grid)]\n",
    "    \n",
    "    #l = loss(grid)\n",
    "    max_iterations = 2000\n",
    "\n",
    "    for i in range(max_iterations):\n",
    "        #loss_log.append(l)\n",
    "            \n",
    "        T = max_iterations/(i + 1)\n",
    "        neighbour = step(grid)\n",
    "        l_neighbour = loss(neighbour)\n",
    "\n",
    "        if P(loss_log[-1], l_neighbour, T) >= random.random():\n",
    "            grid = neighbour\n",
    "            loss_log.append(l_neighbour)\n",
    "            #l = l_neighbour\n",
    "\n",
    "        if loss_log[-1] == 0:\n",
    "            break\n",
    "    \n",
    "    return grid, loss_log\n",
    "\n",
    "def generateEmpty(plot = False):\n",
    "    \"\"\"Generate an empty crossword\"\"\"\n",
    "    \n",
    "    grid = makeGrid(13)\n",
    "    grid, loss_log = colour(grid)\n",
    "    \n",
    "    #restart search if needed\n",
    "    while loss_log[-1] != 0:\n",
    "        grid, loss_log = colour(grid)\n",
    "    \n",
    "    if plot:\n",
    "        plotLoss(loss_log)\n",
    "    \n",
    "    return grid"
   ]
  },
  {
   "cell_type": "code",
   "execution_count": 23,
   "metadata": {},
   "outputs": [],
   "source": [
    "def plotLoss(loss_log):\n",
    "    plt.plot(loss_log)\n",
    "    plt.xlabel('iterations')\n",
    "    plt.ylabel('loss')"
   ]
  },
  {
   "cell_type": "code",
   "execution_count": 24,
   "metadata": {},
   "outputs": [
    {
     "data": {
      "image/png": "[encoded data removed]",
      "text/plain": [
       "<Figure size 432x288 with 1 Axes>"
      ]
     },
     "metadata": {
      "needs_background": "light"
     },
     "output_type": "display_data"
    }
   ],
   "source": [
    "grid = generateEmpty(plot=True)"
   ]
  },
  {
   "cell_type": "markdown",
   "metadata": {},
   "source": [
    "## Show grid\n",
    "\n",
    "Image display of crossword. Adapted from [printi-my-crosswords](github.com/lukavdplas/printi-my-crosswords)."
   ]
  },
  {
   "cell_type": "code",
   "execution_count": 40,
   "metadata": {},
   "outputs": [
    {
     "data": {
      "image/png": "[encoded data removed]",
      "text/plain": [
       "<PIL.Image.Image image mode=1 size=495x495 at 0x7F9A5DF2C3C8>"
      ]
     },
     "execution_count": 40,
     "metadata": {},
     "output_type": "execute_result"
    }
   ],
   "source": [
    "def img(grid):\n",
    "    max_width = 500\n",
    "    square_size = int((max_width - 1) / size)\n",
    "    img_size = square_size * size + 1\n",
    "\n",
    "    #create blank image\n",
    "    img = PIL.Image.new('1', (img_size, img_size), color=1)\n",
    "\n",
    "    #draw vertical grid lines\n",
    "    for i in range(size):\n",
    "        x = i * square_size\n",
    "        for y in range(img_size):\n",
    "            img.putpixel((x,y), 0)\n",
    "\n",
    "    #draw horizontal grid lines\n",
    "    for i in range(size):\n",
    "        y = i * square_size\n",
    "        for x in range(img_size):\n",
    "            img.putpixel((x,y), 0)\n",
    "\n",
    "    #final vertical and horizontal lines\n",
    "    for y in range(img_size):\n",
    "        img.putpixel((-1,y), 0)\n",
    "    for x in range(img_size):\n",
    "        img.putpixel((x,-1), 0)\n",
    "\n",
    "    #fill in black squares\n",
    "    for i in range(size):\n",
    "        for j in range(size):\n",
    "            value = int(grid[j][i])   #1 for white squares, 0 for black squares\n",
    "            if value == 0:\n",
    "                x_min, x_max = i * square_size, (i+1) * square_size\n",
    "                y_min, y_max = j * square_size, (j+1) * square_size\n",
    "\n",
    "                for x in range(x_min, x_max):\n",
    "                    for y in range(y_min, y_max):\n",
    "                        img.putpixel((x,y), 0)\n",
    "    \n",
    "    return img\n",
    "\n",
    "img(grid)"
   ]
  },
  {
   "cell_type": "code",
   "execution_count": 42,
   "metadata": {},
   "outputs": [
    {
     "data": {
      "image/png": "[encoded data removed]",
      "text/plain": [
       "<Figure size 432x288 with 1 Axes>"
      ]
     },
     "metadata": {
      "needs_background": "light"
     },
     "output_type": "display_data"
    }
   ],
   "source": [
    "def plotLengths(grid):\n",
    "    lengths = [seqLength(x,y,grid, direction) for direction in ('hor', 'ver') for y,x in startingCors(grid, direction)]\n",
    "    labels = np.arange(min(lengths), max(lengths) + 1)\n",
    "\n",
    "    plt.hist(lengths, bins=np.arange(min(lengths), max(lengths) + 2))\n",
    "    plt.xlabel('length')\n",
    "    plt.ylabel('count')\n",
    "    plt.xticks(labels + 0.5, labels = labels)\n",
    "    \n",
    "plotLengths(grid)"
   ]
  }
 ],
 "metadata": {
  "kernelspec": {
   "display_name": "Python 3",
   "language": "python",
   "name": "python3"
  },
  "language_info": {
   "codemirror_mode": {
    "name": "ipython",
    "version": 3
   },
   "file_extension": ".py",
   "mimetype": "text/x-python",
   "name": "python",
   "nbconvert_exporter": "python",
   "pygments_lexer": "ipython3",
   "version": "3.6.8"
  }
 },
 "nbformat": 4,
 "nbformat_minor": 2
}
